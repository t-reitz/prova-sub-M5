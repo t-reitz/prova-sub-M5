{
  "nbformat": 4,
  "nbformat_minor": 0,
  "metadata": {
    "colab": {
      "provenance": []
    },
    "kernelspec": {
      "name": "python3",
      "display_name": "Python 3"
    },
    "language_info": {
      "name": "python"
    }
  },
  "cells": [
    {
      "cell_type": "markdown",
      "source": [
        "<center>\n",
        "  <img src=\"https://www.inteli.edu.br/wp-content/uploads/2022/04/28103439/Logo-Container.png\" />\n",
        "</center>"
      ],
      "metadata": {
        "id": "V2N9h-9_J-pH"
      }
    },
    {
      "cell_type": "markdown",
      "source": [
        "# Prova SUB - Componente Prática"
      ],
      "metadata": {
        "id": "17CxrA-0KNVC"
      }
    },
    {
      "cell_type": "markdown",
      "source": [
        "## Engenharia de Software - Módulo 5 - Turma 9"
      ],
      "metadata": {
        "id": "rUdo4gdLMUQO"
      }
    },
    {
      "cell_type": "markdown",
      "source": [
        "**ATENÇÃO: UTILIZE ESSE CADERNO COMO SUBMISSÃO A ESSA PROVA**"
      ],
      "metadata": {
        "id": "Xq5vKMqg1dZG"
      }
    },
    {
      "cell_type": "markdown",
      "source": [
        "### Sistema de Avaliação de Quizzes"
      ],
      "metadata": {
        "id": "vPZUXmy2geq5"
      }
    },
    {
      "cell_type": "markdown",
      "source": [
        "Você foi contratada(o) como engenheira(o) de software para desenvolver um Sistema de Avaliação de Quizzes Online para cursos de programação. Este sistema deve permitir a interação tanto de professores quanto de alunos com uma plataforma de quizzes.\n",
        "\n",
        "As funcionalidades requeridas incluem o cadastro e login de usuários, a criação de quizzes, a submissão de respostas pelos alunos, e a avaliação dessas respostas."
      ],
      "metadata": {
        "id": "8DTAOucggm_7"
      }
    },
    {
      "cell_type": "markdown",
      "source": [
        "**REQUISITOS**"
      ],
      "metadata": {
        "id": "yAMUZXBNx2cA"
      }
    },
    {
      "cell_type": "markdown",
      "source": [
        "REQ1. Professores devem ser capazes de se cadastrar no sistema, criar quizzes com perguntas de resposta curta, visualizar as submissões dos alunos e avaliar as respostas submetidas.\n",
        "\n",
        "REQ2. Alunos devem poder se registrar no sistema, visualizar os quizzes disponíveis, submeter respostas para os quizzes, e ver as avaliações de suas respostas.\n"
      ],
      "metadata": {
        "id": "bICoM2-Mx7En"
      }
    },
    {
      "cell_type": "markdown",
      "source": [
        "### Tarefas"
      ],
      "metadata": {
        "id": "4NKwG6PRyN1j"
      }
    },
    {
      "cell_type": "markdown",
      "source": [],
      "metadata": {
        "id": "pvbYeFZcGW5r"
      }
    },
    {
      "cell_type": "markdown",
      "source": [
        "#### Tarefa 1: História de Usuário"
      ],
      "metadata": {
        "id": "sCGaIgvZKTUP"
      }
    },
    {
      "cell_type": "markdown",
      "source": [
        "Descreva uma história de usuário para a funcionalidade de submissão de respostas pelos alunos, incluindo critérios de aceitação.\n"
      ],
      "metadata": {
        "id": "cv2ndSC7ygGQ"
      }
    },
    {
      "cell_type": "markdown",
      "source": [
        "**User Story 1**\n",
        "\n",
        "Como um aluno de programação online, eu preciso acessar a plataforma de quiz online e poder submeter minhas respostas online para poder receber um feedback após a correção dos professores.\n",
        "\n",
        "Criterios de aceitação:\n",
        "\n",
        "1. Acesso (login) para a plataforma dos quizes\n",
        "2. Poder preencher as respostas do qui\n",
        "3. submissão de respostas na própria plataforma\n",
        "4. recebimento de feedback após a correção do professor."
      ],
      "metadata": {
        "id": "rd0gVCjGynKT"
      }
    },
    {
      "cell_type": "markdown",
      "source": [
        "#### Tarefa 2: Definição de endpoints REST"
      ],
      "metadata": {
        "id": "bXKos3QIy7x0"
      }
    },
    {
      "cell_type": "code",
      "source": [],
      "metadata": {
        "id": "cWrH_D0xM3Xg"
      },
      "execution_count": null,
      "outputs": []
    },
    {
      "cell_type": "markdown",
      "source": [
        "Defina 5 endpoints REST que suportem as operações de interação com o sistema conforme os requisitos, seguindo os padrões RESTful. Exemplos de endpoints podem incluir: criação de quiz, submissão de respostas, visualização de quizzes disponíveis, avaliação de respostas, e visualização de avaliações das respostas."
      ],
      "metadata": {
        "id": "N285qyaizDD0"
      }
    },
    {
      "cell_type": "markdown",
      "source": [
        "1. Cadastro de usuários\n",
        "\n",
        "Endpoint: POST /create-user\n",
        "Descrição: Esse endpoint irá ser o responsável por criar os usuários. Após o preenchimento de um pequeno formulário, o endpoint enviará os dados ao banco de dados.\n",
        "Corpo requisição: Ira conter os dados do novo usuário cadastrado. Esses dados irão ser inputados pelo usuário na hora de criação do cadastro no formulário. (Nome, idade, tipo_user [professor ou aluno], username, senha)\n",
        "Resposta: Bem sucedida - Indicando a criação de um usuário bem sucedida e retorna o ID (único) do novo usuário.\n",
        "\n",
        "2. Obter os quizes\n",
        "\n",
        "Endpoint: GET /quizes\n",
        "Descrição: Esse endpoint irá ser o responsável por obter os dados dos quizes criados pelos professores. Disponibilizando os quizes para os alunos faze-los.\n",
        "Corpo requisição: Nada necessario, ja que irá retornar todos os quizes.\n",
        "Resposta: Bem sucedida - Retorna o quiz que foi indicado pelo parametro id. Ao longo de todos os dados desse quiz: perguntas e respostas.\n",
        "\n",
        "3. Criar Quiz\n",
        "\n",
        "Endpoint: POST /quiz\n",
        "Descrição: Permite que professores criem um novo quiz, incluindo as perguntas e as respostas asociadas a esses enunciados.\n",
        "Corpo da Requisição: Contém as informações do quiz, como o nome do quiz e as perguntas asociadas a esse quiz.\n",
        "Resposta: Bem sucedida - Retorna o quiz criado com um id.\n",
        "\n",
        "4. Enviar respostas (alunos)\n",
        "\n",
        "Endpoint: POST /send-answers\n",
        "Descrição: Permite que alunos enviem suas respostas de um certo quiz para o banco de dados para que no futuro os professores corrigam suas respostas.\n",
        "Corpo requisição: O id do quiz e o id do aluno. Isso para registrar qual quiz foi respondido e por qual aluno. E também as respostas escritas pelo aluno.\n",
        "Resposta: Bem sucedida - Retorna o id unico dessa resposta. No banco de dados ira ter uma tabela de resposta.\n",
        "\n",
        "5. Avaliação de respostas\n",
        "\n",
        "Endpoint: GET /answers\n",
        "Descrição: Permite que os professores acessem uma resposta de um aluno especifio para poder corrigir a resposta.\n",
        "Corpo requisição: O id do quiz e o id do aluno. Isso para poder indicar a aplicação qual resposta e de qual quiz o professor deseja visualizar.\n",
        "Resposta: Bem sucedida - Retorna as respostas do aluno do quiz indicado pelo id\n"
      ],
      "metadata": {
        "id": "lOqL7mlSzDt-"
      }
    },
    {
      "cell_type": "code",
      "source": [
        "# Importando modulos necessarios\n",
        "from flask import Flask, request, jsonify\n",
        "app = Flask(__name__)"
      ],
      "metadata": {
        "id": "on_P4eEvP4mP"
      },
      "execution_count": 4,
      "outputs": []
    },
    {
      "cell_type": "code",
      "source": [
        "# Simulacao de dados no DB\n",
        "usuarios = []\n",
        "quizes = []\n",
        "respostas = []\n",
        "\n",
        "# Endpoint para criar usuários\n",
        "@app.route('/create-user', methods=['POST'])\n",
        "def criar_usuario():\n",
        "    # Pega os dados do corpo da requisição\n",
        "    data = request.json\n",
        "    # gera um ID único para o novo usuário\n",
        "    data['id'] = len(usuarios) + 1\n",
        "\n",
        "    usuarios.append(data)\n",
        "\n",
        "    # retorna o codigo 201 indicando criação de usuário bem sucedida\n",
        "    return jsonify({'id': data['id']}), 201\n",
        "\n",
        "# Endpoint para obter todos os quizes\n",
        "@app.route('/quizes', methods=['GET'])\n",
        "def obter_quizes():\n",
        "\n",
        "    return jsonify(quizes), 200\n",
        "\n",
        "# Endpoint para criar um quiz\n",
        "@app.route('/quiz', methods=['POST'])\n",
        "def criar_quiz():\n",
        "    data = request.json\n",
        "    data['id'] = len(quizes) + 1 # adicionar 1 ao max id\n",
        "    quizes.append(data)\n",
        "    return jsonify({'id': data['id']}), 201\n",
        "\n",
        "# Endpoint para enviar respostas\n",
        "@app.route('/send-answers', methods=['POST'])\n",
        "def enviar_respostas():\n",
        "    data = request.json\n",
        "    data['id_resposta'] = len(respostas) + 1\n",
        "    respostas.append(data)\n",
        "    return jsonify({'id_resposta': data['id_resposta']}), 201\n",
        "\n",
        "# Endpoint para avaliação de respostas\n",
        "@app.route('/answers', methods=['GET'])\n",
        "def avaliar_respostas():\n",
        "    id_quiz = request.args.get('id_quiz')\n",
        "    id_aluno = request.args.get('id_aluno')\n",
        "    for resposta in respostas:\n",
        "        if resposta['id_quiz'] == int(id_quiz) and resposta['id_aluno'] == int(id_aluno):\n",
        "            return jsonify(resposta), 200\n",
        "    return jsonify({'erro': 'Resposta não encontrada'}), 404\n"
      ],
      "metadata": {
        "id": "kPb8u-1RMNU2"
      },
      "execution_count": 5,
      "outputs": []
    },
    {
      "cell_type": "markdown",
      "source": [
        "#### Tarefa 3: Classes de Serviço e Acesso aos Dados"
      ],
      "metadata": {
        "id": "HMOUOWPDzIGW"
      }
    },
    {
      "cell_type": "markdown",
      "source": [
        "Implemente uma ou mais classes de serviço dedicadas à lógica de negócio e pelo menos uma classe de acesso aos dados que retorne dados simulados (mocked data) para testar as funcionalidades relacionadas à submissão e avaliação de respostas dos quizzes."
      ],
      "metadata": {
        "id": "WXxkYbV7zP58"
      }
    },
    {
      "cell_type": "markdown",
      "source": [
        "*Escreva as implementações nesta seção. Utilize mais células se necessário*"
      ],
      "metadata": {
        "id": "DcecDrpG1Eor"
      }
    },
    {
      "cell_type": "code",
      "source": [
        "# Definição da classe de user (DTO) Data transfer object\n",
        "class UserDTO:\n",
        "    def __init__(self):\n",
        "        self.usuarios = []\n",
        "\n",
        "    def adicionar_usuario(self, usuario):\n",
        "        usuario['id'] = len(self.usuarios) + 1\n",
        "        self.usuarios.append(usuario)\n",
        "        return usuario['id']\n",
        "\n",
        "# A classe SERVICE e a responsavel por utilizar o DTO e mandar aos endpoints\n",
        "class UserService:\n",
        "    def __init__(self, dto):\n",
        "        self.dto = dto\n",
        "\n",
        "    def criar_usuario(self, user_data):\n",
        "        return self.dto.adicionar_usuario(user_data)\n",
        "\n",
        "\n",
        "user_dto = UserDTO()\n",
        "\n",
        "user_service = UserService(user_dto)"
      ],
      "metadata": {
        "id": "jOdT5lJjOeSh"
      },
      "execution_count": null,
      "outputs": []
    },
    {
      "cell_type": "markdown",
      "source": [
        "#### Tarefa 4: Implemente os testes"
      ],
      "metadata": {
        "id": "Zfmurl-KzkR_"
      }
    },
    {
      "cell_type": "markdown",
      "source": [
        "1. **Testes Unitários:** Crie testes unitários para as suas classes."
      ],
      "metadata": {
        "id": "cFEcPfQ70w0R"
      }
    },
    {
      "cell_type": "markdown",
      "source": [
        "*Escreva as implementações nesta seção. Utilize mais células se necessário*"
      ],
      "metadata": {
        "id": "ekTZiqkr1Ohp"
      }
    },
    {
      "cell_type": "code",
      "source": [
        "# TESTE para adicionar um usuario\n",
        "def test_adicionar_usuario():\n",
        "    # Cria uma instância do UserDTO\n",
        "    user_dto = UserDTO()\n",
        "\n",
        "    # Dados de um novo usuário\n",
        "    novo_usuario = {\n",
        "        \"nome\": \"Teste\",\n",
        "        \"idade\": 25,\n",
        "        \"tipo_user\": \"aluno\",\n",
        "        \"username\": \"testeuser\",\n",
        "        \"senha\": \"teste123\"\n",
        "    }\n",
        "\n",
        "    # Adiciona o novo usuário e recebe o ID\n",
        "    user_id = user_dto.adicionar_usuario(novo_usuario)\n",
        "\n",
        "    # Verifica se o id retornado pelo endpoint é 1 (primeiro usuário)\n",
        "    assert user_id == 1\n",
        "\n",
        "# TESTE para a criacao de um usuario usando a classe SERVICE\n",
        "def test_criar_usuario_service():\n",
        "    user_dto = UserDTO()\n",
        "    user_service = UserService(user_dto)\n",
        "\n",
        "    # Dados de um novo usuário\n",
        "    novo_usuario = {\n",
        "        \"nome\": \"Teste\",\n",
        "        \"idade\": 25,\n",
        "        \"tipo_user\": \"aluno\",\n",
        "        \"username\": \"testeuser\",\n",
        "        \"senha\": \"teste123\"\n",
        "    }\n",
        "\n",
        "    # Chamando a classe service e os metodos\n",
        "    user_id = user_service.criar_usuario(novo_usuario)\n",
        "\n",
        "    # Verifica se o id retornado foi 1\n",
        "    assert user_id == 1"
      ],
      "metadata": {
        "id": "EOJ8Q45hQUU6"
      },
      "execution_count": null,
      "outputs": []
    },
    {
      "cell_type": "markdown",
      "source": [
        "2. **Testes de Integração:** Crie um script em uma ferramenta como o Postman que teste automaticamente o pelo menos dois endpoints. Atenção, você não pode utilizar frameworks como o Artillery, que eliminam a necessidade da escrita dos scripts de testes."
      ],
      "metadata": {
        "id": "sSC8SLBDJ07g"
      }
    },
    {
      "cell_type": "markdown",
      "source": [
        "*Escreva as implementações nesta seção. Utilize mais células se necessário*"
      ],
      "metadata": {
        "id": "qWWNnjML1Slb"
      }
    },
    {
      "cell_type": "markdown",
      "source": [
        "**ENTREGA**\n",
        "\n",
        "1. Crie um repositório no GitHub para essa entrega.\n",
        "\n",
        "2. Submeta esse caderno neste repositório.\n",
        "\n",
        "3. Garanta que o repositório é publicamente acessível (eliminatório).\n",
        "\n",
        "4. No Google forms da prova, submeta a URL do repositório."
      ],
      "metadata": {
        "id": "xVOV_CWxMBX_"
      }
    }
  ]
}